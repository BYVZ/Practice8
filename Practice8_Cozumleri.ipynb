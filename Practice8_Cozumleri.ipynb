{
 "cells": [
  {
   "cell_type": "markdown",
   "metadata": {},
   "source": [
    "## Kendi fonksiyonumuzu yazmak"
   ]
  },
  {
   "cell_type": "code",
   "execution_count": 1,
   "metadata": {},
   "outputs": [],
   "source": [
    "import numpy as np\n",
    "import pandas as pd"
   ]
  },
  {
   "cell_type": "markdown",
   "metadata": {},
   "source": [
    "### 1. basit bir fonk"
   ]
  },
  {
   "cell_type": "code",
   "execution_count": 2,
   "metadata": {},
   "outputs": [
    {
     "name": "stdout",
     "output_type": "stream",
     "text": [
      "tebrikler!!!\n"
     ]
    }
   ],
   "source": [
    "# seslen() diye bir fonk yaziniz.  \n",
    "def seslen():\n",
    "    \"\"\" 'tebrikler' ve uc unlem yazar \"\"\"\n",
    "    # ifade adli bir degisken olusturunuz \n",
    "    # ve bu, 'tebrikler' ve '!!!' nun birlesimi olsun\n",
    "    ifade = 'tebrikler' + '!!!'\n",
    "\n",
    "    # Print ile bu kull_kelime yi yazdiriniz\n",
    "    print(ifade)\n",
    "\n",
    "# seslen() fonk unu cagiriniz\n",
    "seslen()"
   ]
  },
  {
   "cell_type": "markdown",
   "metadata": {},
   "source": [
    "### 2. Tek argumanli/parametreli fonksiyon"
   ]
  },
  {
   "cell_type": "code",
   "execution_count": 3,
   "metadata": {},
   "outputs": [
    {
     "name": "stdout",
     "output_type": "stream",
     "text": [
      "tebrikler!!!\n"
     ]
    }
   ],
   "source": [
    "# yukaridaki fonk u editleyip bir arguman/parametre ekleyiniz: bu 'kelime' olsun\n",
    "def seslen(kelime):\n",
    "    \"\"\"Bir string ve uc unlem yazar \"\"\"\n",
    "    # ifade adli bir degisken olusturunuz \n",
    "    # ve bu, kelime degiskeni ve '!!!' nun birlesimi olsun\n",
    "    ifade = kelime + '!!!'\n",
    "\n",
    "    # Print ile bu kull_kelime yi yazdiriniz\n",
    "    print(ifade)\n",
    "\n",
    "# seslen() fonk unu cagiriniz. icine sadece 'tebrikler' yaziniz \n",
    "seslen('tebrikler')"
   ]
  },
  {
   "cell_type": "markdown",
   "metadata": {},
   "source": [
    "### 3. return ile geri geri donuslu fonksiyonlar"
   ]
  },
  {
   "cell_type": "code",
   "execution_count": 4,
   "metadata": {},
   "outputs": [
    {
     "name": "stdout",
     "output_type": "stream",
     "text": [
      "tebrikler!!!\n"
     ]
    }
   ],
   "source": [
    "# yukaridaki fonk u editleyip return ekleyiniz: \n",
    "def seslen(kelime):\n",
    "    \"\"\"Bir string ve uc unlemi birlestirip geri doner \"\"\"\n",
    "    # ifade adli bir degisken olusturunuz \n",
    "    # ve bu, kelime degiskeni ve '!!!' nun birlesimi olsun\n",
    "    ifade = kelime + '!!!'\n",
    "\n",
    "    # ifade degiskenini yi return ile geri dondurunuz:\n",
    "    return ifade\n",
    "\n",
    "# seslen fonkuna 'tebrikler' i arguman/parametre olarak gonderiniz, \n",
    "# geri donen ifadeyi yakalamak icin sonuc = diye bir degiskene atayiniz\n",
    "sonuc = seslen('tebrikler')\n",
    "\n",
    "# print ile sonuc u yazdiriniz:\n",
    "print(sonuc)"
   ]
  },
  {
   "cell_type": "markdown",
   "metadata": {},
   "source": [
    "### 4. coklu argumanli/parametreli fonk"
   ]
  },
  {
   "cell_type": "code",
   "execution_count": 5,
   "metadata": {},
   "outputs": [
    {
     "name": "stdout",
     "output_type": "stream",
     "text": [
      "tebrikler!!!3!!!\n"
     ]
    }
   ],
   "source": [
    "# yukaridaki fonk u editleyip kelime1 ve kelime2 diye iki parametre/arguman ekleyiniz \n",
    "def seslen(kelime1,sayi):\n",
    "    \"\"\"Iki string ve uc unlemi birlestirip geri doner \"\"\"\n",
    "    # ifade1 adli bir degisken olusturunuz \n",
    "    # ve bu, kelime1 degiskeni ve '!!!' nun birlesimi olsun\n",
    "    ifade1 = kelime1 + '!!!'\n",
    "    \n",
    "    # ifade2 adli bir degisken olusturunuz \n",
    "    # ve bu, kelime2 degiskeni ve '!!!' nun birlesimi olsun\n",
    "    ifade2 = str(sayi) + '!!!'\n",
    "    \n",
    "    # yeni_ifade diye bir degisken olusturunuz ve bu, ifade1 ve ifade2 nin birlesimmi olsun\n",
    "    yeni_ifade = ifade1 + ifade2\n",
    "    \n",
    "    # yeni_ifade degiskenini return ile geri dondurunuz:\n",
    "    return yeni_ifade\n",
    "\n",
    "# seslen fonkuna 'tebrikler' ve 'size' olarak iki parametre gonderiniz, \n",
    "# geri donen ifadeyi yakalamak icin sonuc= diye bir degiskene atayiniz\n",
    "sonuc = seslen('tebrikler', 3 )\n",
    "\n",
    "# print ile sonuc u yazdiriniz:\n",
    "print(sonuc)"
   ]
  },
  {
   "cell_type": "markdown",
   "metadata": {},
   "source": [
    "### 5. Tuple larla ilgili pratik bir bilgi:"
   ]
  },
  {
   "cell_type": "code",
   "execution_count": 6,
   "metadata": {},
   "outputs": [
    {
     "name": "stdout",
     "output_type": "stream",
     "text": [
      "3\n",
      "4\n",
      "6\n"
     ]
    }
   ],
   "source": [
    "nums = (3, 4, 6)\n",
    "\n",
    "# uc degiskeni aralarina virgul koyarak 3 elemanli bir tuple ile tek seferde tanimlayabiliriz\n",
    "num1, num2, num3 = nums\n",
    "\n",
    "print(num1)\n",
    "print(num2)\n",
    "print(num3)"
   ]
  },
  {
   "cell_type": "code",
   "execution_count": 7,
   "metadata": {},
   "outputs": [
    {
     "name": "stdout",
     "output_type": "stream",
     "text": [
      "(2, 4, 6)\n"
     ]
    }
   ],
   "source": [
    "cift_num = (2, num2, num3)\n",
    "print(cift_num)"
   ]
  },
  {
   "cell_type": "markdown",
   "metadata": {},
   "source": [
    "### 6. Coklu geri donus yapan fonklar"
   ]
  },
  {
   "cell_type": "code",
   "execution_count": 8,
   "metadata": {},
   "outputs": [
    {
     "name": "stdout",
     "output_type": "stream",
     "text": [
      "tebrikler!!!\n",
      "sana!!!\n"
     ]
    }
   ],
   "source": [
    "def seslen(kelime1,kelime2):\n",
    "    \"\"\"Iki string ve uc unlemi birlestirip geri doner \"\"\"\n",
    "\n",
    "    ifade1 = kelime1 + '!!!'\n",
    "    \n",
    "    ifade2 = kelime2 + '!!!'\n",
    "    \n",
    "    # yeni_ifade diye bir degisken olusturunuz ve bu, \n",
    "    # ifade1 ve ifade2 den olusan 2 elemanli bir tuple olsun\n",
    "    yeni_ifade = (ifade1, ifade2)\n",
    "    \n",
    "    return yeni_ifade\n",
    "\n",
    "# seslen fonkuna 'tebrikler' ve 'size' olarak iki parametre gonderiniz, \n",
    "# geri donen IFADELERI yakalamak icin sonuc1= VE sonuc2 diye IKI degiskene atayiniz\n",
    "sonuc1, sonuc2 = seslen('tebrikler', 'sana')\n",
    "\n",
    "# print ile sonuc1 ve sonuc2 yi ayri ayri yazdiriniz:\n",
    "print(sonuc1)\n",
    "print(sonuc2)"
   ]
  },
  {
   "cell_type": "markdown",
   "metadata": {},
   "source": [
    "### 7. Gecmis bilgileri de katarak bir problem cozelim: \n",
    "\n",
    "bu problem icin tweets.csv adli bir veriyi kullanacagiz.  100 tweet ve 31 degisken var ama biz sadece 'lang' degiskeni ile ilginecegiz"
   ]
  },
  {
   "cell_type": "code",
   "execution_count": 9,
   "metadata": {},
   "outputs": [
    {
     "data": {
      "text/plain": [
       "0    en\n",
       "1    en\n",
       "2    et\n",
       "3    en\n",
       "4    en\n",
       "5    en\n",
       "6    en\n",
       "7    en\n",
       "8    en\n",
       "9    en\n",
       "Name: lang, dtype: object"
      ]
     },
     "execution_count": 9,
     "metadata": {},
     "output_type": "execute_result"
    }
   ],
   "source": [
    "tweets_df = pd.read_csv('tweets.csv')\n",
    "tweets_df['lang'].head(10)"
   ]
  },
  {
   "cell_type": "markdown",
   "metadata": {},
   "source": [
    "Goruldugu gibi her bir tweet in hangi dilde oldugunu belirten bir degisken bu.\n",
    "Problem su: hangi dilde kac tane tweet atilmis bunu bulmak.\n",
    "sonuc olarak elimizde dil_sayilari = {'en': 97, 'et': 1, 'und': 2} seklinde bir sonuc olmasi isteniyor.\n",
    "bu islemin mumkun oldugu kadar otomatik olmasi isteniyor. 'en' 'et' ne 'und' dillerini elle yazilmayacak, if else ve for ile yapilacak. "
   ]
  },
  {
   "cell_type": "code",
   "execution_count": 10,
   "metadata": {},
   "outputs": [
    {
     "name": "stdout",
     "output_type": "stream",
     "text": [
      "{'en': 97, 'et': 1, 'und': 2}\n"
     ]
    }
   ],
   "source": [
    "# pandasi import ediniz\n",
    "import pandas as pd\n",
    "\n",
    "# Twitter verisini bir DataFrame olarak cekelim: tweets_df\n",
    "tweets_df = pd.read_csv('tweets.csv')\n",
    "\n",
    "# bos bir sozluk olusturunuz: dil_sayilari adiyla\n",
    "dil_sayilari = {}\n",
    "\n",
    "# Dilleri barindiran kolonu bir degiskene atayalim: kol\n",
    "col = tweets_df['lang']\n",
    "\n",
    "# bu kolon icinde dongu kullanarak donelim:\n",
    "for dil in col:\n",
    "\n",
    "    # Eger dil, dil_sayilari sozlugunde key adi olarak varsa  ve degeri de +1 artir\n",
    "    if dil in dil_sayilari.keys():\n",
    "        dil_sayilari[dil] += 1\n",
    "    # Eger dil, dil_sayilari sozlugunde key adi olarak yoksa, bu dili key olarak ata ve 1 e esitle\n",
    "    else:\n",
    "        dil_sayilari[dil] = 1\n",
    "\n",
    "# tweetlerde kac tane dil varmis yazdiralim.  \n",
    "print(dil_sayilari)"
   ]
  },
  {
   "cell_type": "markdown",
   "metadata": {},
   "source": [
    "### 8. Bu yaptigimizi fonksiyona dokelim, fonksiyon yapsin:"
   ]
  },
  {
   "cell_type": "markdown",
   "metadata": {},
   "source": [
    "Bir fonksiyon tanimlayalim ve Bu fonksiyon yaptigimiz islemin tamamini yapsin. Bir Baska degisle, bu islemlerin hepsini bir fonk icine yazalim. Fonksiyon bizden bir dataframe ve bu dataframe e ait olan bir kolon adi istesin. ve sonuc olarak bu kolonun icinde hangi degiskenden kacar tane var bunu sozluk olarak yazdirsin."
   ]
  },
  {
   "cell_type": "code",
   "execution_count": 11,
   "metadata": {},
   "outputs": [
    {
     "name": "stdout",
     "output_type": "stream",
     "text": [
      "{'en': 97, 'et': 1, 'und': 2}\n"
     ]
    }
   ],
   "source": [
    "# girdileri_say() adinda bir fonk yazalim:\n",
    "def girdileri_say(df, kolon_adi):\n",
    "    \"\"\"bir sozluk yapisini geri dondurur: bu sozlugun key'leri kolon icinde bulunan degerlerdir, value olarak kac defa \n",
    "    gectigi yazilir\"\"\"\n",
    "\n",
    "    # bos bir sozluk aciniz: dil_sayilari\n",
    "    dil_sayilari = {}\n",
    "    \n",
    "    # kolon_adi degiskenini df icine yazip ilgili kolonu seciniz ve 'col' adi ile kaydediniz:\n",
    "    col = df[kolon_adi]\n",
    "    \n",
    "    \n",
    "    # bu kolon icinde dongu kullanarak donelim:\n",
    "    for dil in col:\n",
    "\n",
    "        # Eger dil, dil_sayilari sozlugunde key adi olarak varsa  ve degeri de +1 artir\n",
    "        if dil in dil_sayilari.keys():\n",
    "            dil_sayilari[dil] += 1\n",
    "        # Eger dil, dil_sayilari sozlugunde key adi olarak yoksa, bu dili key olarak ata ve 1 e esitle\n",
    "        else:\n",
    "            dil_sayilari[dil] = 1\n",
    "\n",
    "            \n",
    "    # dil_sayilari sozlugunu bu fonksiyonun geri donutu olarak yaziniz\n",
    "    return dil_sayilari\n",
    "\n",
    "tweets_df = pd.read_csv('tweets.csv')\n",
    "\n",
    "# girdileri_say() fonksiyonunu cagiriniz: ve geri donen seyi yakalamak icin bunu sonuc adiyla kaydediniz\n",
    "sonuc = girdileri_say(tweets_df,'lang')\n",
    "\n",
    "# sonucu yazdiriniz\n",
    "print(sonuc)"
   ]
  },
  {
   "cell_type": "markdown",
   "metadata": {},
   "source": [
    "## Default argumanlar, eleman sayisi belli olmayan argumanlar "
   ]
  },
  {
   "cell_type": "markdown",
   "metadata": {},
   "source": [
    "### 9. Asagidaki default argumanli bir fonksiyonu tanimlanmistir, eksik yerleri doldurunuz:"
   ]
  },
  {
   "cell_type": "code",
   "execution_count": 12,
   "metadata": {},
   "outputs": [
    {
     "name": "stdout",
     "output_type": "stream",
     "text": [
      "Hey!!!\n",
      "HeyHeyHeyHeyHey!!!\n"
     ]
    }
   ],
   "source": [
    "# yankili_seslen adli bir fonk yaziniz:\n",
    "def yankili_seslen(kelime, yanki=1):\n",
    "    \"\"\"verilen kelimeyi yanki sayisi kadar tekrarlar ve sonuna uc tane unlem isareti koyar\"\"\"\n",
    "\n",
    "    # kelime1 i yanki kadar yanyana ekleyiniz ve yankili_kelime adiyla kaydediniz\n",
    "    yankili_kelime = kelime * yanki\n",
    "\n",
    "    # yankili_kelime ye uc tane unlem isareti ekleyiniz:\n",
    "    yankili_kelime = yankili_kelime + '!!!'\n",
    "\n",
    "    # yankili_kelime yi fonksiyon ciktisi olarak belirleyiniz\n",
    "    return yankili_kelime\n",
    "\n",
    "# yankili_seslen() fonk unu cagiriniz ve \"Hey\" kelimesini fonk a gonderiniz: ( yanki argumanini girmeyiniz )\n",
    "# yankisiz degiskeni ile yakalayiniz\n",
    "yankisiz = yankili_seslen(\"Hey\")\n",
    "\n",
    "# yankili_seslen() fonk unu cagiriniz, yanki sayisi 5 olsun ve \"Hey\" kelimesini fonk a gonderiniz: \n",
    "# yankili degiskeni ile yakalayiniz\n",
    "yankili = yankili_seslen(\"Hey\", yanki=5)\n",
    "\n",
    "# bu iki degiskeni yazdiriniz\n",
    "print(yankisiz)\n",
    "print(yankili)"
   ]
  },
  {
   "cell_type": "markdown",
   "metadata": {},
   "source": [
    "### 10. Coklu default argumanlar"
   ]
  },
  {
   "cell_type": "code",
   "execution_count": 13,
   "metadata": {},
   "outputs": [
    {
     "name": "stdout",
     "output_type": "stream",
     "text": [
      "HEY!!!\n",
      "HEYHEYHEYHEYHEY!!!\n"
     ]
    }
   ],
   "source": [
    "# yankili_seslen adli fonku editleyerek guclu=False argumanini ekleyiniz\n",
    "def yankili_seslen(kelime, yanki=1, guclu=False):\n",
    "    \"\"\"verilen kelimeyi yanki sayisi kadar tekrarlar ve sonuna uc tane unlem isareti koyar, \n",
    "    guclu argumani ile buyuk harfleri kullanir\"\"\"\n",
    "\n",
    "    # kelime1 i yanki kadar yanyana ekleyiniz ve yankili_kelime adiyla kaydediniz\n",
    "    yankili_kelime = kelime * yanki\n",
    "\n",
    "    \n",
    "    #Eger guclu, True ise yankili_kelime yi buyuk harfe donusturunuz\n",
    "    if guclu is True:\n",
    "        # yankili_kelime yi buyuk harf yapin ve '!!!' yi ekleyin: yeni_yankili_kelime\n",
    "        yeni_yankili_kelime = yankili_kelime.upper() + '!!!'\n",
    "    else:\n",
    "        # yankili_kelime ye '!!!' ekleyin: yeni_yankili_kelime\n",
    "        yeni_yankili_kelime = yankili_kelime + '!!!'\n",
    "        \n",
    "\n",
    "    # yankili_kelime yi fonksiyon ciktisi olarak belirleyiniz\n",
    "    return yeni_yankili_kelime\n",
    "\n",
    "# yankili_seslen() fonk unu cagiriniz, guclu=True olsun ve \"Hey\" kelimesini fonk a gonderiniz: \n",
    "# yankisiz degiskeni ile yakalayiniz\n",
    "yankisiz_guclu = yankili_seslen(\"Hey\", guclu=True)\n",
    "\n",
    "# yankili_seslen() fonk unu cagiriniz, yanki sayisi 5, guclu=True olsun ve \"Hey\" kelimesini fonk a gonderiniz: \n",
    "# yankili degiskeni ile yakalayiniz\n",
    "yankili_guclu = yankili_seslen(\"Hey\", yanki=5, guclu=True)\n",
    "\n",
    "# bu iki degiskeni yazdiriniz\n",
    "print(yankisiz_guclu)\n",
    "print(yankili_guclu)"
   ]
  },
  {
   "cell_type": "markdown",
   "metadata": {},
   "source": [
    "### 11. Bir fonksiyon lazim ama bu fonksiyona farkli sayida argumanlar da girildigi zaman calismasi isteniyor:"
   ]
  },
  {
   "cell_type": "code",
   "execution_count": 14,
   "metadata": {},
   "outputs": [
    {
     "name": "stdout",
     "output_type": "stream",
     "text": [
      "hskjj\n",
      "hskjjkoslhedflsdfflsk\n"
     ]
    }
   ],
   "source": [
    "def anlamsizca(*args):\n",
    "    \"\"\"sayisi belli olmayan *args ile gelen stringleri birlestirir.\"\"\"\n",
    "\n",
    "    # random diye bir bos string olusturunuz\n",
    "    rasgele = \"\"\n",
    "\n",
    "    # arg ile gelen stringleri random string ine ekleyiniz\n",
    "    for kelime in args:\n",
    "        rasgele += kelime\n",
    "\n",
    "    # rondom geri donsun\n",
    "    return rasgele\n",
    "\n",
    "# anlamsizca() fonk una bir kelimelik rasgele bir string ifade gonderin : bir_kelime  adiyla yakdediniz\n",
    "bir_kelime = anlamsizca(\"hskjj\")\n",
    "\n",
    "# anlamsizca() fonk una 1 kelimelik 5 tane rasgele bir string ifade gonderin : cok_kelime  adiyla yakdediniz\n",
    "cok_kelime = anlamsizca(\"hskjj\", \"kosl\", \"hedf\", \"lsdf\", \"flsk\")\n",
    "\n",
    "# iki degiskeni yazdiriniz\n",
    "print(bir_kelime)\n",
    "print(cok_kelime)"
   ]
  },
  {
   "cell_type": "markdown",
   "metadata": {},
   "source": [
    "### 12. Yukaridaki fonk a benzer sekilde sayisini bilemedigimiz girdiler olacak fakat ikili kelimeler halinde gelecek. Bir sozluk yapisindaki key-value cifti gibi."
   ]
  },
  {
   "cell_type": "code",
   "execution_count": 15,
   "metadata": {},
   "outputs": [
    {
     "name": "stdout",
     "output_type": "stream",
     "text": [
      "isim: Ali\n",
      "sinifi: 10\n",
      "durumu: Tesekkur\n",
      "isim: Ayse\n",
      "takimi: gs\n",
      "sinifi: 10\n"
     ]
    }
   ],
   "source": [
    "def ogrenci_ve_notu(**kv_args):\n",
    "    \"\"\"sayisi belli olmayan *kv_args ile gelen ogrenci ismi ve notunu ikililerini yazdirir\"\"\"\n",
    "\n",
    "    # gelen ikililer icinde dongu ile donup aralarinda \":\" ifadesi ile yazdiriniz\n",
    "    for k, v in kv_args.items():\n",
    "        \n",
    "        print(k + \": \" + v)\n",
    "\n",
    "\n",
    "# ogrenci_ve_notu() fonk una isim='Ali', sinifi=\"A\", durumu=\"Takdir\" ikililerini gonderiniz\n",
    "ogrenci_ve_notu(isim=\"Ali\", sinifi=\"10\", durumu=\"Tesekkur\")\n",
    "\n",
    "# ayni sekilde kendiniz bir veri giriniz\n",
    "ogrenci_ve_notu(isim=\"Ayse\", takimi=\"gs\", sinifi=\"10\")\n",
    "\n",
    "\n",
    "# her ogrenci icin basta \"RAPOR BASLANGICI\" ve \"RAPOR SONU\" diye iki bilgi yazdiriniz"
   ]
  },
  {
   "cell_type": "markdown",
   "metadata": {},
   "source": [
    "### 13. Soru8 deki fonksiyonu alt hucreye kopyalayiniz. Ve ogrendigimiz default argumani bu fonk a uygulayiniz. kolon_adi default olarak 'lang' olsun."
   ]
  },
  {
   "cell_type": "code",
   "execution_count": 16,
   "metadata": {},
   "outputs": [
    {
     "name": "stdout",
     "output_type": "stream",
     "text": [
      "{'en': 97, 'et': 1, 'und': 2}\n",
      "{'<a href=\"http://twitter.com\" rel=\"nofollow\">Twitter Web Client</a>': 24, '<a href=\"http://www.facebook.com/twitter\" rel=\"nofollow\">Facebook</a>': 1, '<a href=\"http://twitter.com/download/android\" rel=\"nofollow\">Twitter for Android</a>': 26, '<a href=\"http://twitter.com/download/iphone\" rel=\"nofollow\">Twitter for iPhone</a>': 33, '<a href=\"http://www.twitter.com\" rel=\"nofollow\">Twitter for BlackBerry</a>': 2, '<a href=\"http://www.google.com/\" rel=\"nofollow\">Google</a>': 2, '<a href=\"http://twitter.com/#!/download/ipad\" rel=\"nofollow\">Twitter for iPad</a>': 6, '<a href=\"http://linkis.com\" rel=\"nofollow\">Linkis.com</a>': 2, '<a href=\"http://rutracker.org/forum/viewforum.php?f=93\" rel=\"nofollow\">newzlasz</a>': 2, '<a href=\"http://ifttt.com\" rel=\"nofollow\">IFTTT</a>': 1, '<a href=\"http://www.myplume.com/\" rel=\"nofollow\">Plume\\xa0for\\xa0Android</a>': 1}\n"
     ]
    }
   ],
   "source": [
    "# 8. soruda tanimladiginiz fonku buraya kopyalayiniz ve editleyiniz\n",
    "def girdileri_say(df, kolon_adi='lang'):\n",
    "    \"\"\"bir sozluk yapisini geri dondurur: bu sozlugun key'leri kolon icinde bulunan degerlerdir, value olarak kac defa \n",
    "    gectigi yazilir\"\"\"\n",
    "\n",
    "    # bos bir sozluk aciniz: dil_sayilari\n",
    "    dil_sayilari = {}\n",
    "    \n",
    "    # kolon_adi degiskenini df icine yazip ilgili kolonu seciniz ve 'col' adi ile kaydediniz:\n",
    "    col = df[kolon_adi]\n",
    "    \n",
    "    \n",
    "    # bu kolon icinde dongu kullanarak donelim:\n",
    "    for dil in col:\n",
    "\n",
    "        # Eger dil, dil_sayilari sozlugunde key adi olarak varsa  ve degeri de +1 artir\n",
    "        if dil in dil_sayilari.keys():\n",
    "            dil_sayilari[dil] += 1\n",
    "        # Eger dil, dil_sayilari sozlugunde key adi olarak yoksa, bu dili key olarak ata ve 1 e esitle\n",
    "        else:\n",
    "            dil_sayilari[dil] = 1\n",
    "\n",
    "            \n",
    "    # dil_sayilari sozlugunu bu fonksiyonun geri donutu olarak yaziniz\n",
    "    return dil_sayilari\n",
    "\n",
    "\n",
    "\n",
    "\n",
    "# bu kodu editleyip, sadece tweets_df dataframe ini gonderin, default argumani girmeden deneyiniz: sonuc1 \n",
    "sonuc1 = girdileri_say(tweets_df,'lang')\n",
    "\n",
    "# tweets_df dataframe ini ve 'source' colon ismini, yani degiskenini gonderiniz: sonuc2\n",
    "sonuc2 = girdileri_say(tweets_df,'source')\n",
    "\n",
    "# sonuc1 ve sonuc2 i yazdiriniz\n",
    "print(sonuc1)\n",
    "print(sonuc2)"
   ]
  },
  {
   "cell_type": "markdown",
   "metadata": {},
   "source": [
    "### 14. soru11 de gordugumuz *arg in kullanimi gibi ustteki fonk u editleyiniz. sonuc olarak kac tane kolon  adi girersek, fonk gonderdigimiz kolonlara uygulansin:"
   ]
  },
  {
   "cell_type": "code",
   "execution_count": 17,
   "metadata": {},
   "outputs": [
    {
     "name": "stdout",
     "output_type": "stream",
     "text": [
      "{'en': 97, 'et': 1, 'und': 2}\n",
      "{'<a href=\"http://twitter.com\" rel=\"nofollow\">Twitter Web Client</a>': 24, '<a href=\"http://www.facebook.com/twitter\" rel=\"nofollow\">Facebook</a>': 1, '<a href=\"http://twitter.com/download/android\" rel=\"nofollow\">Twitter for Android</a>': 26, '<a href=\"http://twitter.com/download/iphone\" rel=\"nofollow\">Twitter for iPhone</a>': 33, '<a href=\"http://www.twitter.com\" rel=\"nofollow\">Twitter for BlackBerry</a>': 2, '<a href=\"http://www.google.com/\" rel=\"nofollow\">Google</a>': 2, '<a href=\"http://twitter.com/#!/download/ipad\" rel=\"nofollow\">Twitter for iPad</a>': 6, '<a href=\"http://linkis.com\" rel=\"nofollow\">Linkis.com</a>': 2, '<a href=\"http://rutracker.org/forum/viewforum.php?f=93\" rel=\"nofollow\">newzlasz</a>': 2, '<a href=\"http://ifttt.com\" rel=\"nofollow\">IFTTT</a>': 1, '<a href=\"http://www.myplume.com/\" rel=\"nofollow\">Plume\\xa0for\\xa0Android</a>': 1, 'en': 97, 'et': 1, 'und': 2}\n"
     ]
    }
   ],
   "source": [
    "# ustteki fonku buraya kopyalayip default argumani degistiriniz\n",
    "def girdileri_say(df, *args):\n",
    "    \"\"\"bir sozluk yapisini geri dondurur: bu sozlugun key'leri kolon icinde bulunan degerlerdir, value olarak kac defa \n",
    "    gectigi yazilir\"\"\"\n",
    "\n",
    "    # bos bir sozluk aciniz: dil_sayilari\n",
    "    dil_sayilari = {}\n",
    "    \n",
    "    # for dongusu olusturup args icinde dongu olusturunuz. sonraki kodlarin 1 tab ice alindigina dikkat! \n",
    "    for kolon_adi in args:\n",
    "        \n",
    "        # kolon_adi degiskenini df icine yazip ilgili kolonu seciniz ve 'col' adi ile kaydediniz:\n",
    "        col = df[kolon_adi]\n",
    "        \n",
    "        # bu kolon icinde dongu kullanarak donelim:\n",
    "        for dil in col:\n",
    "\n",
    "            # Eger dil, dil_sayilari sozlugunde key adi olarak varsa  ve degeri de +1 artir\n",
    "            if dil in dil_sayilari.keys():\n",
    "                dil_sayilari[dil] += 1\n",
    "            # Eger dil, dil_sayilari sozlugunde key adi olarak yoksa, bu dili key olarak ata ve 1 e esitle\n",
    "            else:\n",
    "                dil_sayilari[dil] = 1\n",
    "\n",
    "            \n",
    "    # dil_sayilari sozlugunu bu fonksiyonun geri donutu olarak yaziniz\n",
    "    return dil_sayilari\n",
    "\n",
    "\n",
    "\n",
    "# sadece tweets_df dataframe ini gonderip, default argumani girmeden deneyiniz: sonuc1 \n",
    "sonuc1 = girdileri_say(tweets_df,'lang')\n",
    "\n",
    "# tweets_df dataframe ini ve 'source' ve 'lang' degiskenlerini gonderiniz: sonuc2\n",
    "sonuc2 = girdileri_say(tweets_df,'source','lang')\n",
    "\n",
    "# sonuc1 ve sonuc2 i yazdiriniz\n",
    "print(sonuc1)\n",
    "print(sonuc2)"
   ]
  },
  {
   "cell_type": "markdown",
   "metadata": {},
   "source": [
    "## Lambda fonksiyonu"
   ]
  },
  {
   "cell_type": "raw",
   "metadata": {},
   "source": [
    "func = (lambda a: a * 2) \n",
    "func('hej')"
   ]
  },
  {
   "cell_type": "markdown",
   "metadata": {},
   "source": [
    "### 15. verilen bir string ifadeye uc unlem ekleyen fonku lambda ile yaziniz, ve hello kelimesini bu fonk a gonderiniz"
   ]
  },
  {
   "cell_type": "code",
   "execution_count": 18,
   "metadata": {},
   "outputs": [
    {
     "data": {
      "text/plain": [
       "'hello!!!'"
      ]
     },
     "execution_count": 18,
     "metadata": {},
     "output_type": "execute_result"
    }
   ],
   "source": [
    "# labda fonk unu yazip = ile  unlem_ekle  olarak kaydedinz\n",
    "unlem_ekle = (lambda a: a + '!!!') \n",
    "\n",
    "# fonk a 'hello' string ini gonderiniz\n",
    "unlem_ekle('hello')"
   ]
  },
  {
   "cell_type": "markdown",
   "metadata": {},
   "source": [
    "### 16. Asagidaki fonk u lambda ile yaziniz"
   ]
  },
  {
   "cell_type": "raw",
   "metadata": {},
   "source": [
    "def yankili_seslen(kelime, yanki):\n",
    "    \"\"\"verilen kelimeyi yanki sayisi kadar tekrarlar\"\"\"\n",
    "    yankili_kelime = kelime * yanki\n",
    "    return yankili_kelime"
   ]
  },
  {
   "cell_type": "code",
   "execution_count": 19,
   "metadata": {},
   "outputs": [
    {
     "name": "stdout",
     "output_type": "stream",
     "text": [
      "heyheyheyheyhey\n"
     ]
    }
   ],
   "source": [
    "# Dikkat: lambda fonk.lar isimlendirilirken parantez icine alinir ve isimlendirilen ifadeye sagdan esitlenir\n",
    "# fonk adini yankili_seslen_lambdali olarak kaydediniz\n",
    "yankili_seslen =( lambda kelime, yanki : kelime*yanki )\n",
    "\n",
    "# fonk a 'hey' ve 5 argumanlarini gonderiniz sonucu sonuc ismi ile yakalayiniz\n",
    "sonuc = yankili_seslen('hey',5)\n",
    "\n",
    "# sonuc u yazdiriniz\n",
    "print(sonuc)"
   ]
  },
  {
   "cell_type": "markdown",
   "metadata": {},
   "source": [
    "## map() ile lambda"
   ]
  },
  {
   "cell_type": "markdown",
   "metadata": {},
   "source": [
    "### 17. Asagidaki gibi map ve lambda fonksiyonlarini beraber kullanarak verilen string elemanlara sahip  bir listenin her elemanina uc unlem ekleyiniz"
   ]
  },
  {
   "cell_type": "raw",
   "metadata": {},
   "source": [
    "nums = [2, 4, 6, 8, 10]\n",
    "result = map(lambda a: a ** 2, nums)\n",
    "(map lambda yi coklu elemanli objelere uygulamaya yarar!)"
   ]
  },
  {
   "cell_type": "code",
   "execution_count": 20,
   "metadata": {},
   "outputs": [
    {
     "name": "stdout",
     "output_type": "stream",
     "text": [
      "['selam!!!', 'hi!!!', 'hello!!!', 'hej!!!']\n"
     ]
    }
   ],
   "source": [
    "kelimeler = [\"selam\", \"hi\", \"hello\", \"hej\"]\n",
    "\n",
    "# map() fonk unu kullanarak lambda fonk unu listenin her elemanina uygulatiniz. \n",
    "# lambda fonku aldigi kelimeye '!!!' ifadesini eklesin.  kelimeler_seslen adi ile kaydediniz\n",
    "kelimeler_seslen = map(lambda item: item + '!!!', kelimeler)\n",
    "\n",
    "# kelimeler_seslen i listeye ceviriniz: kelimeler_seslen_list\n",
    "kelimeler_seslen_list = list(kelimeler_seslen)\n",
    "\n",
    "# yazdiriniz\n",
    "print(kelimeler_seslen_list)"
   ]
  },
  {
   "cell_type": "markdown",
   "metadata": {},
   "source": [
    "## filter() ile lambda"
   ]
  },
  {
   "cell_type": "markdown",
   "metadata": {},
   "source": [
    "### 18. filter fonk unun lambda ile beraber kullanip asagidaki yonergelere gore verilen bir listenin her elemanina bir filtreleme uygulayiniz"
   ]
  },
  {
   "cell_type": "raw",
   "metadata": {},
   "source": [
    "filter (lambda degisken : sart , filt_uygcak_liste)\n",
    "\n",
    "(buradaki degisken sartin icinde gecmeli)"
   ]
  },
  {
   "cell_type": "code",
   "execution_count": 21,
   "metadata": {},
   "outputs": [
    {
     "name": "stdout",
     "output_type": "stream",
     "text": [
      "['stockholm', 'liverpool']\n"
     ]
    }
   ],
   "source": [
    "sehirler = ['stockholm', 'hamburg', 'liverpool', 'LA', 'leganes', 'atina', 'genk', 'nastes', 'alkmaar']\n",
    "\n",
    "#filter() ile lambda icine yazacaginiz uzunlugu 7 den buyuk olan elemanlari secme islemini \n",
    "# sehirler listesinie uygulanyiniz: sonuc adi ile kaydediniz\n",
    "sonuc = filter(lambda  sehir : len(sehir) > 7  , sehirler)\n",
    "\n",
    "# sonucu listeye ceviriniz: sonuc_liste \n",
    "sonuc_liste = list(sonuc)\n",
    "\n",
    "# sonuc_liste i yazdiriniz\n",
    "print(sonuc_liste)"
   ]
  },
  {
   "cell_type": "markdown",
   "metadata": {},
   "source": [
    "## reduce() ve lambda"
   ]
  },
  {
   "cell_type": "markdown",
   "metadata": {},
   "source": [
    "### 19. Daha once tanimladigimiz anlamsizca() fonksiyonunu yonergelere gore reduce ile yapiniz"
   ]
  },
  {
   "cell_type": "raw",
   "metadata": {},
   "source": [
    "sonuc = reduce(lambda  sayi1,sayi2 : sayi1*sayi2 , girilen_liste)\n",
    "\n",
    "map() den farki: reduce() tek deger dondurur, zincirleme ilerliyor!\n",
    "reduce() standartta yoktur, import edilmesi gerekir"
   ]
  },
  {
   "cell_type": "code",
   "execution_count": 22,
   "metadata": {},
   "outputs": [
    {
     "name": "stdout",
     "output_type": "stream",
     "text": [
      "hsshdfjqpqqoqmcnxvnapsoopscubyub\n"
     ]
    }
   ],
   "source": [
    "# reduce fonk u nu import ediniz\n",
    "from functools import reduce\n",
    "\n",
    "rasgele_kelimeler = ['hsshdfj', 'qpqqoq', 'mcnxvn', 'apsoops', 'cubyub']\n",
    "\n",
    "# verilen listedeki her elemani yanyana ekleyip sonucu donduren fonku reduce ve lambda ile yaziniz: sonuc\n",
    "sonuc = reduce(lambda  kelime1,kelime2 : kelime1+kelime2 , rasgele_kelimeler)\n",
    "\n",
    "# Print the result\n",
    "print(sonuc)"
   ]
  },
  {
   "cell_type": "markdown",
   "metadata": {},
   "source": [
    "## map() filter() ve reduce() farklari:"
   ]
  },
  {
   "cell_type": "markdown",
   "metadata": {},
   "source": [
    "<img src=\"map-filter-reduce.png\" width=\"400\" height=\"400\">"
   ]
  },
  {
   "cell_type": "markdown",
   "metadata": {},
   "source": [
    "## Hata ayiklama"
   ]
  },
  {
   "cell_type": "markdown",
   "metadata": {},
   "source": [
    "### 20. "
   ]
  },
  {
   "cell_type": "code",
   "execution_count": 23,
   "metadata": {},
   "outputs": [
    {
     "name": "stdout",
     "output_type": "stream",
     "text": [
      "kelime bir string ifade, yanki ise integer olmali!\n"
     ]
    },
    {
     "data": {
      "text/plain": [
       "''"
      ]
     },
     "execution_count": 23,
     "metadata": {},
     "output_type": "execute_result"
    }
   ],
   "source": [
    "# 9 daki fonk u editleyiniz \n",
    "# yankili_seslen adli bir fonk yaziniz:\n",
    "def yankili_seslen(kelime, yanki=1):\n",
    "    \"\"\"verilen kelimeyi yanki sayisi kadar tekrarlar ve sonuna uc tane unlem isareti koyar\"\"\"\n",
    "    \n",
    "    # yankili_kelime adli bos string olusturalim:   <------\n",
    "    yankili_kelime = \"\"\n",
    "    \n",
    "    # try blogu acalim\n",
    "    try:\n",
    "        # kelime1 i yanki kadar yanyana ekleyiniz ve yankili_kelime adiyla kaydediniz\n",
    "        yankili_kelime = kelime * yanki\n",
    "\n",
    "        # yankili_kelime ye uc tane unlem isareti ekleyiniz:\n",
    "        yankili_kelime = yankili_kelime + '!!!'\n",
    "    \n",
    "    # except ile try blogunu kapatalim\n",
    "    except:\n",
    "        print('kelime bir string ifade, yanki ise integer olmali!')\n",
    "        \n",
    "    # yankili_kelime yi fonksiyon ciktisi olarak belirleyiniz\n",
    "    return yankili_kelime\n",
    "\n",
    "\n",
    "\n",
    "# yankili_seslen() fonk unu cagiriniz, yanki sayisi olarak 'cok' yaziniz ve \"Hey\" kelimesini fonk a gonderiniz: \n",
    "yankili_seslen(\"Hey\", yanki='cok')"
   ]
  },
  {
   "cell_type": "markdown",
   "metadata": {},
   "source": [
    "### 21. Kendi hata uyarimizi olusturmak"
   ]
  },
  {
   "cell_type": "code",
   "execution_count": 24,
   "metadata": {},
   "outputs": [
    {
     "name": "stdout",
     "output_type": "stream",
     "text": [
      "HeyHeyHeyHeyHey!!!\n"
     ]
    }
   ],
   "source": [
    "# yankili_seslen adli bir fonk yaziniz:\n",
    "def yankili_seslen(kelime, yanki=1):\n",
    "    \"\"\"verilen kelimeyi yanki sayisi kadar tekrarlar ve sonuna uc tane unlem isareti koyar\"\"\"\n",
    "    \n",
    "    # raise anahtar kelimesi ile hata yakalamak icin if aciniz\n",
    "    if yanki < 0:\n",
    "        raise ValueError('yanki sifirdan buyuk veya esit olmali') \n",
    "        \n",
    "    # kelime1 i yanki kadar yanyana ekleyiniz ve yankili_kelime adiyla kaydediniz\n",
    "    yankili_kelime = kelime * yanki\n",
    "\n",
    "    # yankili_kelime ye uc tane unlem isareti ekleyiniz:\n",
    "    yankili_kelime = yankili_kelime + '!!!'\n",
    "\n",
    "    # yankili_kelime yi fonksiyon ciktisi olarak belirleyiniz\n",
    "    return yankili_kelime\n",
    "\n",
    "\n",
    "# yankili_seslen() fonk unu cagiriniz, yanki sayisi 5 olsun ve \"Hey\" kelimesini fonk a gonderiniz: \n",
    "# yankili degiskeni ile yakalayiniz\n",
    "yankili = yankili_seslen(\"Hey\", yanki=5)\n",
    "print(yankili)\n",
    "# yankiyi 0 ve -1 ile tekrar deneyiniz"
   ]
  },
  {
   "cell_type": "markdown",
   "metadata": {},
   "source": [
    "### 22. "
   ]
  },
  {
   "cell_type": "code",
   "execution_count": 25,
   "metadata": {},
   "outputs": [
    {
     "name": "stdout",
     "output_type": "stream",
     "text": [
      "RT @bpolitics: .@krollbondrating's Christopher Whalen says Clinton is the weakest Dem candidate in 50 years https://t.co/pLk7rvoRSn https:/…\n",
      "RT @HeidiAlpine: @dmartosko Cruz video found.....racing from the scene.... #cruzsexscandal https://t.co/zuAPZfQDk3\n",
      "RT @AlanLohner: The anti-American D.C. elites despise Trump for his America-first foreign policy. Trump threatens their gravy train. https:…\n",
      "RT @BIackPplTweets: Young Donald trump meets his neighbor  https://t.co/RFlu17Z1eE\n",
      "RT @trumpresearch: @WaitingInBagdad @thehill Trump supporters have selective amnisia.\n",
      "RT @HouseCracka: 29,000+ PEOPLE WATCHING TRUMP LIVE ON ONE STREAM!!!\n",
      "\n",
      "https://t.co/7QCFz9ehNe\n",
      "RT @urfavandtrump: RT for Brendon Urie\n",
      "Fav for Donald Trump https://t.co/PZ5vS94lOg\n",
      "RT @trapgrampa: This is how I see #Trump every time he speaks. https://t.co/fYSiHNS0nT\n",
      "RT @trumpresearch: @WaitingInBagdad @thehill Trump supporters have selective amnisia.\n",
      "RT @Pjw20161951: NO KIDDING: #SleazyDonald just attacked Scott Walker for NOT RAISING TAXES in WI! #LyinTrump\n",
      "#NeverTrump  #CruzCrew  https…\n",
      "RT @urfavandtrump: RT for Brendon Urie\n",
      "Fav for Donald Trump https://t.co/PZ5vS94lOg\n",
      "RT @ggreenwald: The media spent all day claiming @SusanSarandon said she might vote for Trump. A total fabrication, but whatever... https:/…\n",
      "RT @Pjw20161951: NO KIDDING: #SleazyDonald just attacked Scott Walker for NOT RAISING TAXES in WI! #LyinTrump\n",
      "#NeverTrump  #CruzCrew  https…\n",
      "RT @trapgrampa: This is how I see #Trump every time he speaks. https://t.co/fYSiHNS0nT\n",
      "RT @mitchellvii: So let me get this straight.  Any reporter can assault Mr Trump at any time and Corey can do nothing?  Michelle is clearly…\n",
      "RT @paulbenedict7: How #Trump Sacks RINO Strongholds by Hitting Positions Held by Dems and GOP https://t.co/D7ulnAJhis   #tcot #PJNET https…\n",
      "RT @DRUDGE_REPORT: VIDEO:  Trump emotional moment with Former Miss Wisconsin who has terminal illness... https://t.co/qt06aG9inT\n",
      "RT @ggreenwald: The media spent all day claiming @SusanSarandon said she might vote for Trump. A total fabrication, but whatever... https:/…\n",
      "RT @DennisApgar: Thank God I seen Trump at first stop in Wisconsin media doesn't know how great he is, advice watch live streaming https://…\n",
      "RT @paulbenedict7: How #Trump Sacks RINO Strongholds by Hitting Positions Held by Dems and GOP https://t.co/D7ulnAJhis   #tcot #PJNET https…\n",
      "RT @DRUDGE_REPORT: VIDEO:  Trump emotional moment with Former Miss Wisconsin who has terminal illness... https://t.co/qt06aG9inT\n",
      "RT @DennisApgar: Thank God I seen Trump at first stop in Wisconsin media doesn't know how great he is, advice watch live streaming https://…\n",
      "RT @mitchellvii: So let me get this straight.  Any reporter can assault Mr Trump at any time and Corey can do nothing?  Michelle is clearly…\n",
      "RT @sciam: Trump's idiosyncratic patterns of speech are why people tend either to love or hate him https://t.co/QXwquVgs3c https://t.co/P9N…\n",
      "RT @Norsu2: Nightmare WI poll for Ted Cruz has Kasich surging: Trump 29, Kasich 27, Cruz 25. https://t.co/lJsgbLYY1P #NeverTrump\n",
      "RT @thehill: WATCH: Protester pepper-sprayed point blank at Trump rally https://t.co/B5f65Al9ld https://t.co/skAfByXuQc\n",
      "RT @sciam: Trump's idiosyncratic patterns of speech are why people tend either to love or hate him https://t.co/QXwquVgs3c https://t.co/P9N…\n",
      "RT @ggreenwald: The media spent all day claiming @SusanSarandon said she might vote for Trump. A total fabrication, but whatever... https:/…\n",
      "RT @DebbieStout5: Wow! Last I checked it was just 12 points &amp; that wasn't more than a day ago. Oh boy Trump ppl might want to rethink🤔 http…\n",
      "RT @tyleroakley: i'm a messy bitch, but at least i'm not voting for trump\n",
      "RT @vandives: Trump supporters r tired of justice NOT being served. There's no justice anymore. Hardworking Americans get screwed. That's n…\n",
      "RT @AP: BREAKING: Trump vows to stand by campaign manager charged with battery, says he does not discard people.\n",
      "RT @AP: BREAKING: Trump vows to stand by campaign manager charged with battery, says he does not discard people.\n",
      "RT @urfavandtrump: RT for Jerrie (Little Mix)\n",
      "Fav for Donald Trump https://t.co/nEVxElW6iG\n",
      "RT @urfavandtrump: RT for Jerrie (Little Mix)\n",
      "Fav for Donald Trump https://t.co/nEVxElW6iG\n",
      "RT @NoahCRothman: When Walker was fighting for reforms, Trump was defending unions and collective bargaining privileges https://t.co/e1UWNN…\n",
      "RT @RedheadAndRight: Report: Secret Service Says Michelle Fields Touched Trump https://t.co/c5c2sD8VO2\n",
      "\n",
      "This is the only article you will n…\n",
      "RT @AIIAmericanGirI: VIDEO=&gt; Anti-Trump Protester SLUGS Elderly Trump Supporter in the Face\n",
      "https://t.co/GeEryMDuDY\n",
      "RT @NoahCRothman: When Walker was fighting for reforms, Trump was defending unions and collective bargaining privileges https://t.co/e1UWNN…\n",
      "RT @JusticeRanger1: @realDonaldTrump @Pudingtane @DanScavino @GOP @infowars @EricTrump \n",
      "URGENT PUBLIC TRUMP ALERT:\n",
      "COVERT KILL MEANS https:…\n",
      "RT @AIIAmericanGirI: VIDEO=&gt; Anti-Trump Protester SLUGS Elderly Trump Supporter in the Face\n",
      "https://t.co/GeEryMDuDY\n",
      "RT @RedheadAndRight: Report: Secret Service Says Michelle Fields Touched Trump https://t.co/c5c2sD8VO2\n",
      "\n",
      "This is the only article you will n…\n",
      "RT @JusticeRanger1: @realDonaldTrump @Pudingtane @DanScavino @GOP @infowars @EricTrump \n",
      "URGENT PUBLIC TRUMP ALERT:\n",
      "COVERT KILL MEANS https:…\n",
      "RT @Schneider_CM: Trump says nobody had ever heard of executive orders before Obama started signing them. Never heard of the Emancipation P…\n",
      "RT @RonBasler1: @DavidWhitDennis @realDonaldTrump @tedcruz \n",
      "\n",
      "CRUZ SCREWS HOOKERS\n",
      "\n",
      "CRUZ / CLINTON\n",
      "RT @DonaldsAngel: Former Ms. WI just said that she is terminally ill but because of Trump pageant, her 7 yr. old son has his college educat…\n",
      "RT @Schneider_CM: Trump says nobody had ever heard of executive orders before Obama started signing them. Never heard of the Emancipation P…\n",
      "RT @DonaldsAngel: Former Ms. WI just said that she is terminally ill but because of Trump pageant, her 7 yr. old son has his college educat…\n",
      "RT @Dodarey: @DR8801 @SykesCharlie Charlie, let's see you get a straight \"yes\" or \"no\" answer from Cruz a/b being unfaithful to his wife @T…\n",
      "RT @RonBasler1: @DavidWhitDennis @realDonaldTrump @tedcruz \n",
      "\n",
      "CRUZ SCREWS HOOKERS\n",
      "\n",
      "CRUZ / CLINTON\n",
      "RT @RockCliffOne: Remember when the idea of a diabolical moron holding the world hostage was an idea for a funny movie? #Trump #GOP https:/…\n",
      "RT @HillaryClinton: \"Every day, another Republican bemoans the rise of Donald Trump... but [he] didn’t come out of nowhere.\" —Hillary\n",
      "https…\n",
      "RT @Dodarey: @DR8801 @SykesCharlie Charlie, let's see you get a straight \"yes\" or \"no\" answer from Cruz a/b being unfaithful to his wife @T…\n",
      "RT @HillaryClinton: \"Every day, another Republican bemoans the rise of Donald Trump... but [he] didn’t come out of nowhere.\" —Hillary\n",
      "https…\n",
      "RT @RockCliffOne: Remember when the idea of a diabolical moron holding the world hostage was an idea for a funny movie? #Trump #GOP https:/…\n",
      "RT @immigrant4trump: @immigrant4trump msm, cable news attacking trump all day, from 8am to 10pm today, then the reruns come on, repeating t…\n",
      "RT @immigrant4trump: @immigrant4trump msm, cable news attacking trump all day, from 8am to 10pm today, then the reruns come on, repeating t…\n",
      "RT @GlendaJazzey: Donald Trump’s Campaign Financing Dodge, @rrotunda https://t.co/L8flI4lswG via @VerdictJustia\n",
      "RT @TUSK81: LOUDER FOR THE PEOPLE IN THE BACK https://t.co/hlPVyNLXzx\n",
      "RT @loopzoop: Well...put it back https://t.co/8Yb7BDT5VM\n",
      "RT @claytoncubitt: Stop asking Bernie supporters if they’ll vote for Hillary against Trump. We got a plan to beat Trump already. Called Ber…\n",
      "RT @akaMaude13: Seriously can't make this up. What a joke. #NeverTrump  https://t.co/JkTx6mdRgC\n"
     ]
    }
   ],
   "source": [
    "# tweets_df nin 'text' degiskeni uzerinde lambda ve filter kullanarak \n",
    "# ilk ilk karakteri RT olan gozlemleri seciniz: sonuc\n",
    "sonuc = filter(lambda x : x[0:2] == 'RT' , tweets_df['text'])\n",
    "\n",
    "# sonuc degiskeninin tipi filter objesi oldugunden, listeye ceviriniz: sonuc_list\n",
    "sonuc_list = list(sonuc)\n",
    "\n",
    "# sonuc_list icindeki tum RT tweetleri for ile yazdiriniz\n",
    "for tweet in sonuc_list:\n",
    "    print(tweet)"
   ]
  },
  {
   "cell_type": "markdown",
   "metadata": {},
   "source": [
    "### 23. "
   ]
  },
  {
   "cell_type": "code",
   "execution_count": 26,
   "metadata": {},
   "outputs": [
    {
     "name": "stdout",
     "output_type": "stream",
     "text": [
      "{'en': 97, 'et': 1, 'und': 2}\n",
      "Dataframe'de ornek_kolon_adi adli bir kolon/degisken bulunmamaktadir\n"
     ]
    }
   ],
   "source": [
    "# tweets_df nin soru13 deki hali uzerinde editleyelim\n",
    "def girdileri_say(df, kolon_adi='lang'):\n",
    "    \"\"\"bir sozluk yapisini geri dondurur: bu sozlugun key'leri kolon icinde bulunan degerlerdir, value olarak kac defa \n",
    "    gectigi yazilir\"\"\"\n",
    "\n",
    "    # bos bir sozluk aciniz: dil_sayilari\n",
    "    dil_sayilari = {}\n",
    "    \n",
    "    try:\n",
    "        # kolon_adi degiskenini df icine yazip ilgili kolonu seciniz ve 'col' adi ile kaydediniz:\n",
    "        col = df[kolon_adi]\n",
    "    \n",
    "    \n",
    "        # bu kolon icinde dongu kullanarak donelim:\n",
    "        for dil in col:\n",
    "\n",
    "            # Eger dil, dil_sayilari sozlugunde key adi olarak varsa  ve degeri de +1 artir\n",
    "            if dil in dil_sayilari.keys():\n",
    "                dil_sayilari[dil] += 1\n",
    "            # Eger dil, dil_sayilari sozlugunde key adi olarak yoksa, bu dili key olarak ata ve 1 e esitle\n",
    "            else:\n",
    "                dil_sayilari[dil] = 1\n",
    "\n",
    "            \n",
    "        # dil_sayilari sozlugunu bu fonksiyonun geri donutu olarak yaziniz\n",
    "        return dil_sayilari\n",
    "    except:\n",
    "        print(\"Dataframe'de \" + kolon_adi + \" adli bir kolon/degisken bulunmamaktadir\" )\n",
    "\n",
    "        \n",
    "# tweets_df ve 'lang' gonderiniz sonucu print ediniz\n",
    "sonuc = girdileri_say(tweets_df, 'lang') \n",
    "print(sonuc)\n",
    "\n",
    "# tweets_df ve 'bir kolon adi' gonderiniz sonucu print ediniz\n",
    "sonuc1 = girdileri_say(tweets_df, 'ornek_kolon_adi') "
   ]
  },
  {
   "cell_type": "markdown",
   "metadata": {},
   "source": [
    "### 24."
   ]
  },
  {
   "cell_type": "code",
   "execution_count": 27,
   "metadata": {},
   "outputs": [
    {
     "name": "stdout",
     "output_type": "stream",
     "text": [
      "{'en': 97, 'et': 1, 'und': 2}\n"
     ]
    },
    {
     "ename": "ValueError",
     "evalue": "Girdiginiz ornek_kolon_adi, dataframe'de bulunmamaktadir",
     "output_type": "error",
     "traceback": [
      "\u001b[0;31m---------------------------------------------------------------------------\u001b[0m",
      "\u001b[0;31mValueError\u001b[0m                                Traceback (most recent call last)",
      "\u001b[0;32m<ipython-input-27-1e4cbfc25836>\u001b[0m in \u001b[0;36m<module>\u001b[0;34m\u001b[0m\n\u001b[1;32m     33\u001b[0m \u001b[0;34m\u001b[0m\u001b[0m\n\u001b[1;32m     34\u001b[0m \u001b[0;31m# tweets_df ve 'bir kolon adi' gonderiniz sonucu print ediniz\u001b[0m\u001b[0;34m\u001b[0m\u001b[0;34m\u001b[0m\u001b[0;34m\u001b[0m\u001b[0m\n\u001b[0;32m---> 35\u001b[0;31m \u001b[0msonuc1\u001b[0m \u001b[0;34m=\u001b[0m \u001b[0mgirdileri_say\u001b[0m\u001b[0;34m(\u001b[0m\u001b[0mtweets_df\u001b[0m\u001b[0;34m,\u001b[0m \u001b[0;34m'ornek_kolon_adi'\u001b[0m\u001b[0;34m)\u001b[0m\u001b[0;34m\u001b[0m\u001b[0;34m\u001b[0m\u001b[0m\n\u001b[0m",
      "\u001b[0;32m<ipython-input-27-1e4cbfc25836>\u001b[0m in \u001b[0;36mgirdileri_say\u001b[0;34m(df, kolon_adi)\u001b[0m\n\u001b[1;32m      6\u001b[0m     \u001b[0;31m# eger girilen kolon adi df'de yoksa bu uyaarilsin:\u001b[0m\u001b[0;34m\u001b[0m\u001b[0;34m\u001b[0m\u001b[0;34m\u001b[0m\u001b[0m\n\u001b[1;32m      7\u001b[0m     \u001b[0;32mif\u001b[0m \u001b[0mkolon_adi\u001b[0m \u001b[0;32mnot\u001b[0m \u001b[0;32min\u001b[0m \u001b[0mdf\u001b[0m\u001b[0;34m.\u001b[0m\u001b[0mcolumns\u001b[0m\u001b[0;34m:\u001b[0m\u001b[0;34m\u001b[0m\u001b[0;34m\u001b[0m\u001b[0m\n\u001b[0;32m----> 8\u001b[0;31m         \u001b[0;32mraise\u001b[0m \u001b[0mValueError\u001b[0m\u001b[0;34m(\u001b[0m\u001b[0;34m\"Girdiginiz \"\u001b[0m \u001b[0;34m+\u001b[0m \u001b[0mkolon_adi\u001b[0m \u001b[0;34m+\u001b[0m  \u001b[0;34m\", dataframe'de bulunmamaktadir\"\u001b[0m\u001b[0;34m)\u001b[0m\u001b[0;34m\u001b[0m\u001b[0;34m\u001b[0m\u001b[0m\n\u001b[0m\u001b[1;32m      9\u001b[0m     \u001b[0;31m# bos bir sozluk aciniz: dil_sayilari\u001b[0m\u001b[0;34m\u001b[0m\u001b[0;34m\u001b[0m\u001b[0;34m\u001b[0m\u001b[0m\n\u001b[1;32m     10\u001b[0m     \u001b[0mdil_sayilari\u001b[0m \u001b[0;34m=\u001b[0m \u001b[0;34m{\u001b[0m\u001b[0;34m}\u001b[0m\u001b[0;34m\u001b[0m\u001b[0;34m\u001b[0m\u001b[0m\n",
      "\u001b[0;31mValueError\u001b[0m: Girdiginiz ornek_kolon_adi, dataframe'de bulunmamaktadir"
     ]
    }
   ],
   "source": [
    "def girdileri_say(df, kolon_adi='lang'):\n",
    "    \"\"\"bir sozluk yapisini geri dondurur: bu sozlugun key'leri kolon icinde bulunan degerlerdir, value olarak kac defa \n",
    "    gectigi yazilir\"\"\"\n",
    "    \n",
    "    # raise ile kendi hata uyari mesajini olusturunuz:\n",
    "    # eger girilen kolon adi df'de yoksa bu uyaarilsin:\n",
    "    if kolon_adi not in df.columns:\n",
    "        raise ValueError(\"Girdiginiz \" + kolon_adi +  \", dataframe'de bulunmamaktadir\")\n",
    "    # bos bir sozluk aciniz: dil_sayilari\n",
    "    dil_sayilari = {}\n",
    "    \n",
    "    # kolon_adi degiskenini df icine yazip ilgili kolonu seciniz ve 'col' adi ile kaydediniz:\n",
    "    col = df[kolon_adi]\n",
    "    \n",
    "    \n",
    "    # bu kolon icinde dongu kullanarak donelim:\n",
    "    for dil in col:\n",
    "\n",
    "        # Eger dil, dil_sayilari sozlugunde key adi olarak varsa  ve degeri de +1 artir\n",
    "        if dil in dil_sayilari.keys():\n",
    "            dil_sayilari[dil] += 1\n",
    "        # Eger dil, dil_sayilari sozlugunde key adi olarak yoksa, bu dili key olarak ata ve 1 e esitle\n",
    "        else:\n",
    "            dil_sayilari[dil] = 1\n",
    "\n",
    "            \n",
    "    # dil_sayilari sozlugunu bu fonksiyonun geri donutu olarak yaziniz\n",
    "    return dil_sayilari\n",
    "\n",
    "# tweets_df ve 'lang' gonderiniz sonucu print ediniz\n",
    "sonuc = girdileri_say(tweets_df, 'lang') \n",
    "print(sonuc)\n",
    "\n",
    "# tweets_df ve 'bir kolon adi' gonderiniz sonucu print ediniz\n",
    "sonuc1 = girdileri_say(tweets_df, 'ornek_kolon_adi') "
   ]
  },
  {
   "cell_type": "code",
   "execution_count": null,
   "metadata": {},
   "outputs": [],
   "source": []
  }
 ],
 "metadata": {
  "kernelspec": {
   "display_name": "Python 3",
   "language": "python",
   "name": "python3"
  },
  "language_info": {
   "codemirror_mode": {
    "name": "ipython",
    "version": 3
   },
   "file_extension": ".py",
   "mimetype": "text/x-python",
   "name": "python",
   "nbconvert_exporter": "python",
   "pygments_lexer": "ipython3",
   "version": "3.7.7"
  }
 },
 "nbformat": 4,
 "nbformat_minor": 4
}
